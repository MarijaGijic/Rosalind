def Fibonacci(n, k):
    F1 = 1
    F2 = 1
    Fn = 0
    month = 0
    while month < n-2:
        Fn = F2 + F1*k
        F1 = F2
        F2 = Fn
        month += 1
    return Fn
print Fibonacci(36, 5)
