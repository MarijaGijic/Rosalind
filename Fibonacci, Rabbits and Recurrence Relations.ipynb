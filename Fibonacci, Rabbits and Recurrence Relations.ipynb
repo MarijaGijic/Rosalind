def Fibonacci_loop(NumMonths, Offspring):   
    old = 1
    new = 1
    for itr in range(NumMonths - 1):
        new, old = old, old + (new * Offspring)
       
    return new
print(Fibonacci_loop(32, 2))
