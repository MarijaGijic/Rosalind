def Fibonacci_loop(Num):   
    old = 1
    new = 1
    for itr in range(Num - 1):
        new, old = old, old + new
       
    return new
print(Fibonacci_loop(20))
